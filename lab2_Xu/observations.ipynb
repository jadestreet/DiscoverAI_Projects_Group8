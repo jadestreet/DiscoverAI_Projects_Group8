{
    "metadata": {
        "kernelspec": {
            "name": "python3",
            "display_name": "Python 3 (ipykernel)",
            "language": "python"
        }
    },
    "nbformat": 4,
    "nbformat_minor": 2,
    "cells": [
        {
            "attachments": {},
            "cell_type": "markdown",
            "metadata": {},
            "source": [
                "**Describe the problem that you chose to solve. How is it related to the topic that your team will investigate for the Discover AI project?**"
            ]
        },
        {
            "attachments": {},
            "cell_type": "markdown",
            "metadata": {},
            "source": [
                "I solved Shower problem in the Reinforcement Learning, our group decides to study the advertisement recommandation system of social media.  \n",
                "Hence, the Reinforcement Learning is helpful because we can apply the reward to our analysis. For example, if our model recommends the wrong advertisement based on input information/previous seen videos, the reward will be negative.  \n",
                "Combine the above, we can analyze the frequency of videos the watchers being lead to."
            ]
        },
        {
            "attachments": {},
            "cell_type": "markdown",
            "metadata": {},
            "source": [
                "**Did you have to clean your dataset? If yes, desribe what you did.**"
            ]
        },
        {
            "attachments": {},
            "cell_type": "markdown",
            "metadata": {},
            "source": [
                "No."
            ]
        },
        {
            "attachments": {},
            "cell_type": "markdown",
            "metadata": {},
            "source": [
                "**Did the program run successfully? If yes, summarise the results, otherwise, describe what went wrong and your attempt(s) to fix it.**"
            ]
        },
        {
            "attachments": {},
            "cell_type": "markdown",
            "metadata": {},
            "source": [
                "The program runs successfully. I set it to test 400000 times and 10 episodes for each test. For the final result the mean reward is 59.4, the std of episodes is 0.9165151389911679."
            ]
        },
        {
            "attachments": {},
            "cell_type": "markdown",
            "metadata": {},
            "source": [
                "**Submit the link to your group's github**"
            ]
        },
        {
            "attachments": {},
            "cell_type": "markdown",
            "metadata": {},
            "source": [
                "https://github.com/jadestreet/DiscoverAI_Projects_Group8"
            ]
        }
    ]
}
